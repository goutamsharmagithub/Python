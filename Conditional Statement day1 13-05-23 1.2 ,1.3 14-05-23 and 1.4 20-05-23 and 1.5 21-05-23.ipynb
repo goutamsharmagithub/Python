{
 "cells": [
  {
   "cell_type": "markdown",
   "id": "633f8849",
   "metadata": {},
   "source": [
    "# IF\n",
    "# ELIF\n",
    "# Else\n",
    "#### 13May2023"
   ]
  },
  {
   "cell_type": "markdown",
   "id": "d32a027b",
   "metadata": {},
   "source": [
    "# Indentation apply on  \n",
    "* Identation means just like fix space and which space comes after enter \":\"---like \n",
    "if x%2==0:\n",
    "   print(x,\"Even Number\")\n",
    "* Conditional Statements\n",
    "* Loop\n",
    "* Function"
   ]
  },
  {
   "cell_type": "markdown",
   "id": "e9a06875",
   "metadata": {},
   "source": [
    "* if condition1 and condition2:\n",
    "* -----statements/Action/prints\n",
    "* elif condition2 :\n",
    "* -----statements/Action/Prints\n",
    "* elif condition3 : \n",
    "* -----statements/Action/Prints\n",
    "* else:\n",
    "* -----statements/Action/Prints\n",
    "     "
   ]
  },
  {
   "cell_type": "code",
   "execution_count": 8,
   "id": "5f06d4c8",
   "metadata": {},
   "outputs": [
    {
     "name": "stdout",
     "output_type": "stream",
     "text": [
      "-2 is not greater than 10\n"
     ]
    }
   ],
   "source": [
    "x=-2\n",
    "if x>10:\n",
    "    print(x,\"is greater then 10\")\n",
    "else:\n",
    "    print(x,\"is not greater than 10\")"
   ]
  },
  {
   "cell_type": "code",
   "execution_count": 9,
   "id": "b63c247a",
   "metadata": {},
   "outputs": [
    {
     "name": "stdout",
     "output_type": "stream",
     "text": [
      "-45 is not neagtive\n"
     ]
    }
   ],
   "source": [
    "#2 Print whether given number is + or - or 0\n",
    "\n",
    "\n",
    "x=-45\n",
    "if x>0:\n",
    "    print(x,\"is Positive\")\n",
    "elif x<0:\n",
    "    print(x,\"is not neagtive\")\n",
    "else:\n",
    "    print(\"Zero\")"
   ]
  },
  {
   "cell_type": "code",
   "execution_count": null,
   "id": "ed8fb22a",
   "metadata": {},
   "outputs": [],
   "source": [
    "# \"=\"----value assign"
   ]
  },
  {
   "cell_type": "code",
   "execution_count": 10,
   "id": "95158ae5",
   "metadata": {},
   "outputs": [],
   "source": [
    "# \"==\"------compare value\n",
    "# \"f\"--------format"
   ]
  },
  {
   "cell_type": "code",
   "execution_count": 12,
   "id": "3faa143b",
   "metadata": {},
   "outputs": [
    {
     "name": "stdout",
     "output_type": "stream",
     "text": [
      "given number 4 is even number\n"
     ]
    }
   ],
   "source": [
    "#3 Check whether given number is even or not ?\n",
    "\n",
    "x=4\n",
    "if x%2==0:\n",
    "    print(f\"given number {x} is even number\")\n",
    "else:\n",
    "    print(f\"given number {x} is not a even number\")"
   ]
  },
  {
   "cell_type": "markdown",
   "id": "941f299f",
   "metadata": {},
   "source": [
    "# INPUT"
   ]
  },
  {
   "cell_type": "code",
   "execution_count": 13,
   "id": "13cfe186",
   "metadata": {},
   "outputs": [
    {
     "name": "stdout",
     "output_type": "stream",
     "text": [
      "Enter your number122\n"
     ]
    }
   ],
   "source": [
    "n=input(\"Enter your number\")"
   ]
  },
  {
   "cell_type": "code",
   "execution_count": 17,
   "id": "e9d0994d",
   "metadata": {},
   "outputs": [
    {
     "name": "stdout",
     "output_type": "stream",
     "text": [
      "Enter your Number111111\n",
      "111111  is greater than 10\n"
     ]
    }
   ],
   "source": [
    "x=int(input(\"Enter your Number\"))\n",
    "if x>10:\n",
    "    print(x,\" is greater than 10\")\n",
    "else:\n",
    "    print(x,\"is not grater than 10\")"
   ]
  },
  {
   "cell_type": "code",
   "execution_count": 43,
   "id": "a55261ec",
   "metadata": {},
   "outputs": [
    {
     "name": "stdout",
     "output_type": "stream",
     "text": [
      "Enter your number :12\n",
      "12 is Even number\n"
     ]
    }
   ],
   "source": [
    "x=int(input(\"Enter your number :\"))\n",
    "if x%2==0:\n",
    "    print(f\"{x} is Even number\")\n",
    "else:\n",
    "    print(f\"{x} is not even number\")"
   ]
  },
  {
   "cell_type": "code",
   "execution_count": 24,
   "id": "f900d03c",
   "metadata": {},
   "outputs": [
    {
     "name": "stdout",
     "output_type": "stream",
     "text": [
      "Enter your Age25\n",
      "25 Age are eligible for voting\n"
     ]
    }
   ],
   "source": [
    "# check create a program to check for voting elei\n",
    "x=int(input(\"Enter your Age\"))\n",
    "if x>=18:\n",
    "    print(x,\"Age are eligible for voting\")\n",
    "else:\n",
    "    print(x,\"Age Not Eligible fro voting\")"
   ]
  },
  {
   "cell_type": "code",
   "execution_count": 41,
   "id": "4eaf4e55",
   "metadata": {},
   "outputs": [
    {
     "ename": "SyntaxError",
     "evalue": "invalid syntax (1971594571.py, line 3)",
     "output_type": "error",
     "traceback": [
      "\u001b[1;36m  File \u001b[1;32m\"C:\\Users\\Bipl0231\\AppData\\Local\\Temp\\ipykernel_7792\\1971594571.py\"\u001b[1;36m, line \u001b[1;32m3\u001b[0m\n\u001b[1;33m    if a=x%10:\u001b[0m\n\u001b[1;37m        ^\u001b[0m\n\u001b[1;31mSyntaxError\u001b[0m\u001b[1;31m:\u001b[0m invalid syntax\n"
     ]
    }
   ],
   "source": [
    "#1 wap to return last digit of a given number\n",
    "x=int(input(\"Enter number\"))\n",
    "if a=x%10:\n",
    "    print(x,\"Last digit number is\",a) \n",
    "    \n"
   ]
  },
  {
   "cell_type": "code",
   "execution_count": 42,
   "id": "8f63858c",
   "metadata": {},
   "outputs": [
    {
     "name": "stdout",
     "output_type": "stream",
     "text": [
      "Enter the number10\n",
      "last digit of given number 10 is 0 which is divisible by 3\n"
     ]
    }
   ],
   "source": [
    "#2 wap to check that last digit of a number is divisible by 3\n",
    "x=int(input(\"Enter the number\"))\n",
    "if x%10%3==0:\n",
    "    print(f\"last digit of given number {x} is {x%10} which is divisible by 3\")\n",
    "else:\n",
    "    print(f\"last digit of given number {x} is {x%10} which is not divisible by 3\")"
   ]
  },
  {
   "cell_type": "code",
   "execution_count": null,
   "id": "caaaec9c",
   "metadata": {},
   "outputs": [],
   "source": [
    "#3 wap to find the smallest number of two numbers\n",
    "x=int(input('Enter a X number'))\n",
    "y=int(input('Enter a Y number'))\n",
    "if x>y:\n",
    "    print(f\"\")"
   ]
  },
  {
   "cell_type": "code",
   "execution_count": null,
   "id": "f4558aa0",
   "metadata": {},
   "outputs": [],
   "source": [
    "#4 wap to find largest no. of two numbers"
   ]
  },
  {
   "cell_type": "code",
   "execution_count": 37,
   "id": "bf6e558c",
   "metadata": {},
   "outputs": [
    {
     "ename": "SyntaxError",
     "evalue": "invalid syntax (2587152282.py, line 3)",
     "output_type": "error",
     "traceback": [
      "\u001b[1;36m  File \u001b[1;32m\"C:\\Users\\Bipl0231\\AppData\\Local\\Temp\\ipykernel_7792\\2587152282.py\"\u001b[1;36m, line \u001b[1;32m3\u001b[0m\n\u001b[1;33m    if a//2=get_ipython().getoutput('0 and a//3=!0:')\u001b[0m\n\u001b[1;37m           ^\u001b[0m\n\u001b[1;31mSyntaxError\u001b[0m\u001b[1;31m:\u001b[0m invalid syntax\n"
     ]
    }
   ],
   "source": [
    "#5 wap to check the divisibility by 2 & 3 both-----(if x%2==0 and x%3==0)\n",
    "a=int(input(\"Enter a number\"))\n",
    "if a//2=!0 and a//3=!0:\n",
    "    print('true1')\n",
    "else:\n",
    "    print(\"false2\")"
   ]
  },
  {
   "cell_type": "markdown",
   "id": "6cdccd6f",
   "metadata": {},
   "source": [
    "# LOOPS-----------1.3\n",
    "#### 14May2023"
   ]
  },
  {
   "cell_type": "code",
   "execution_count": 46,
   "id": "ea6c042c",
   "metadata": {},
   "outputs": [
    {
     "name": "stdout",
     "output_type": "stream",
     "text": [
      "This is even number\n"
     ]
    }
   ],
   "source": [
    "ls=[19,34,54,58,11]\n",
    "if ls[2]%2==0:\n",
    "    print(\"This is even number\")\n",
    "else:\n",
    "    print(\"This is not even number\")"
   ]
  },
  {
   "cell_type": "markdown",
   "id": "e7ed73c1",
   "metadata": {},
   "source": [
    "<!-- for and while loop\n",
    "* For loop :- It is a finite loop()\n",
    "* While Loop :- It is Infinite Loop()       -->"
   ]
  },
  {
   "cell_type": "markdown",
   "id": "82326867",
   "metadata": {},
   "source": [
    "For and While loop\n",
    "* Loop :- It is finite loop\n",
    "* While loop:- It is Infinite loop\n",
    "* Iterator Like (i) ----"
   ]
  },
  {
   "cell_type": "markdown",
   "id": "7db805b0",
   "metadata": {},
   "source": [
    "## For i in object:\n",
    "##    action/statement/return/print"
   ]
  },
  {
   "cell_type": "code",
   "execution_count": 55,
   "id": "befa10c8",
   "metadata": {},
   "outputs": [
    {
     "name": "stdout",
     "output_type": "stream",
     "text": [
      "Good Morning ! Harry Welcome to Disny World\n",
      "Good Morning ! john Welcome to Disny World\n",
      "Good Morning ! Dawn Welcome to Disny World\n",
      "Good Morning ! jimmy Welcome to Disny World\n",
      "Good Morning ! zhuhao Welcome to Disny World\n",
      "Good Morning ! Yu Welcome to Disny World\n",
      "Good Morning ! mariat Welcome to Disny World\n",
      "Good Morning ! Jennet Welcome to Disny World\n",
      "Good Morning ! Kang Welcome to Disny World\n",
      "Good Morning ! Tony Welcome to Disny World\n",
      "Good Morning ! Steve Welcome to Disny World\n",
      "Good Morning ! star Welcome to Disny World\n"
     ]
    }
   ],
   "source": [
    "ls=['Harry','john','Dawn','jimmy','zhuhao','Yu','mariat','Jennet','Kang','Tony','Steve','star']\n",
    "\n",
    "for i in ls:\n",
    "    print('Good Morning !' ,i, 'Welcome to Disny World')\n",
    "##    print(f\"Good Morning,{i}\")\n",
    "    "
   ]
  },
  {
   "cell_type": "code",
   "execution_count": 58,
   "id": "5066249e",
   "metadata": {},
   "outputs": [
    {
     "name": "stdout",
     "output_type": "stream",
     "text": [
      "2  Square root is 4\n",
      "4  Square root is 16\n",
      "19  Square root is 361\n",
      "2  Square root is 4\n",
      "14  Square root is 196\n",
      "10  Square root is 100\n",
      "31  Square root is 961\n",
      "5  Square root is 25\n",
      "3  Square root is 9\n",
      "44  Square root is 1936\n"
     ]
    }
   ],
   "source": [
    "numls=[2,4,19,2,14,10,31,5,3,44]\n",
    "for i in numls:\n",
    "    print(i,\" Square root is\" ,i**2)\n"
   ]
  },
  {
   "cell_type": "code",
   "execution_count": 59,
   "id": "be2f5412",
   "metadata": {},
   "outputs": [
    {
     "name": "stdout",
     "output_type": "stream",
     "text": [
      "P\n",
      "y\n",
      "t\n",
      "h\n",
      "o\n",
      "n\n"
     ]
    }
   ],
   "source": [
    "txt0='Python'\n",
    "for i in txt0:\n",
    "    print(i)"
   ]
  },
  {
   "cell_type": "code",
   "execution_count": 65,
   "id": "70777002",
   "metadata": {},
   "outputs": [
    {
     "data": {
      "text/plain": [
       "[2, 4, 19, 2, 14, 10, 31, 5, 3, 44]"
      ]
     },
     "execution_count": 65,
     "metadata": {},
     "output_type": "execute_result"
    }
   ],
   "source": [
    "numls"
   ]
  },
  {
   "cell_type": "code",
   "execution_count": 66,
   "id": "d97a6bed",
   "metadata": {},
   "outputs": [
    {
     "name": "stdout",
     "output_type": "stream",
     "text": [
      "31\n",
      "44\n"
     ]
    }
   ],
   "source": [
    "for i in numls:\n",
    "    if i>=20:\n",
    "        print(i)"
   ]
  },
  {
   "cell_type": "code",
   "execution_count": 70,
   "id": "cb345628",
   "metadata": {},
   "outputs": [
    {
     "name": "stdout",
     "output_type": "stream",
     "text": [
      "Greater than 20 is : False\n",
      "Greater than 20 is : False\n",
      "Greater than 20 is : False\n",
      "Greater than 20 is : False\n",
      "Greater than 20 is : False\n",
      "Greater than 20 is : False\n",
      "Greater than 20 is : True\n",
      "Greater than 20 is : False\n",
      "Greater than 20 is : False\n",
      "Greater than 20 is : True\n"
     ]
    }
   ],
   "source": [
    "for i in numls:\n",
    "    print(\"Greater than 20 is :\",(i>=20)!=0,\", e.g.: \",numls[])"
   ]
  },
  {
   "cell_type": "code",
   "execution_count": 73,
   "id": "5309a2e9",
   "metadata": {},
   "outputs": [
    {
     "name": "stdout",
     "output_type": "stream",
     "text": [
      "1\n",
      "2\n",
      "3\n",
      "4\n",
      "5\n",
      "6\n",
      "7\n",
      "8\n",
      "9\n",
      "10\n"
     ]
    }
   ],
   "source": [
    "# Create a program to print the table of a given number\n",
    "## x=int(input(\"Enter a number\"))\n",
    "for i in range(1,11):       # Start is including and last /end number is not including\n",
    "    print(i)\n",
    "    \n"
   ]
  },
  {
   "cell_type": "code",
   "execution_count": 74,
   "id": "3c07ace5",
   "metadata": {},
   "outputs": [
    {
     "name": "stdout",
     "output_type": "stream",
     "text": [
      "1\n",
      "4\n",
      "7\n",
      "10\n"
     ]
    }
   ],
   "source": [
    "for i in range(1,11,3):       # Start is including and last /end number is not including and here '3' role is jump the 3 step \n",
    "    print(i)"
   ]
  },
  {
   "cell_type": "code",
   "execution_count": 78,
   "id": "06ff7c9c",
   "metadata": {},
   "outputs": [
    {
     "name": "stdout",
     "output_type": "stream",
     "text": [
      "Enter a number2\n",
      "Table of : 2 is 2 * 1 = 2\n",
      "Table of : 2 is 2 * 2 = 4\n",
      "Table of : 2 is 2 * 3 = 6\n",
      "Table of : 2 is 2 * 4 = 8\n",
      "Table of : 2 is 2 * 5 = 10\n",
      "Table of : 2 is 2 * 6 = 12\n",
      "Table of : 2 is 2 * 7 = 14\n",
      "Table of : 2 is 2 * 8 = 16\n",
      "Table of : 2 is 2 * 9 = 18\n",
      "Table of : 2 is 2 * 10 = 20\n"
     ]
    }
   ],
   "source": [
    "x=int(input(\"Enter a number\"))\n",
    "for i in range(1,11):       # Start is including and last /end number is not including\n",
    "    print('Table of :',x,\"is\",x,\"*\",i,\"=\",x*i)"
   ]
  },
  {
   "cell_type": "code",
   "execution_count": 82,
   "id": "405b57aa",
   "metadata": {},
   "outputs": [
    {
     "name": "stdout",
     "output_type": "stream",
     "text": [
      "Enter a number 2\n",
      "2*1 = 2\n",
      "2*2 = 4\n",
      "2*3 = 6\n",
      "2*4 = 8\n",
      "2*5 = 10\n",
      "2*6 = 12\n",
      "2*7 = 14\n",
      "2*8 = 16\n",
      "2*9 = 18\n",
      "2*10 = 20\n"
     ]
    }
   ],
   "source": [
    "x=int(input(\"Enter a number \"))\n",
    "for i in range(1,11):\n",
    "    print(f'{x}*{i} = {x*i}')"
   ]
  },
  {
   "cell_type": "code",
   "execution_count": null,
   "id": "d4ebcca8",
   "metadata": {},
   "outputs": [],
   "source": [
    "# WAP to print first 10 natuaral numbers and its square"
   ]
  },
  {
   "cell_type": "code",
   "execution_count": 81,
   "id": "841476f6",
   "metadata": {},
   "outputs": [
    {
     "name": "stdout",
     "output_type": "stream",
     "text": [
      "1  is natural number and there square is 1\n",
      "2  is natural number and there square is 4\n",
      "3  is natural number and there square is 9\n",
      "4  is natural number and there square is 16\n",
      "5  is natural number and there square is 25\n",
      "6  is natural number and there square is 36\n",
      "7  is natural number and there square is 49\n",
      "8  is natural number and there square is 64\n",
      "9  is natural number and there square is 81\n",
      "10  is natural number and there square is 100\n"
     ]
    }
   ],
   "source": [
    "for i in range(1,11):\n",
    "    print(i,\" is natural number and there square is\" ,i**2)"
   ]
  },
  {
   "cell_type": "code",
   "execution_count": 85,
   "id": "35459ed1",
   "metadata": {},
   "outputs": [
    {
     "name": "stdout",
     "output_type": "stream",
     "text": [
      "10\n",
      "9\n",
      "8\n",
      "7\n",
      "6\n",
      "5\n",
      "4\n",
      "3\n",
      "2\n",
      "1\n"
     ]
    }
   ],
   "source": [
    "#1 WAP to print 'n' natural number in reversival order\n",
    "n=10\n",
    "for i in range(0,n):\n",
    "    print(n-i)"
   ]
  },
  {
   "cell_type": "code",
   "execution_count": 86,
   "id": "2ada699c",
   "metadata": {},
   "outputs": [
    {
     "name": "stdout",
     "output_type": "stream",
     "text": [
      "5\n",
      "4\n",
      "3\n",
      "2\n",
      "1\n"
     ]
    }
   ],
   "source": [
    "#1 WAP to print 'n' natural number in reversival order\n",
    "n=5\n",
    "for i in range(n,0,-1):\n",
    "    print(i)      # another method\n",
    "    "
   ]
  },
  {
   "cell_type": "code",
   "execution_count": null,
   "id": "512a46b5",
   "metadata": {},
   "outputs": [],
   "source": [
    "#2 WAP to get the sum of first N natural number\n",
    "#3 WAP to print the even number b/w two number entered by users \n",
    "#4 WAP to count the odd number b/w two numbers entered by users\n",
    "#5 WAP to find the factors of a number"
   ]
  },
  {
   "cell_type": "code",
   "execution_count": 88,
   "id": "f15c8209",
   "metadata": {},
   "outputs": [
    {
     "name": "stdout",
     "output_type": "stream",
     "text": [
      "Enter the number 5\n",
      "sum of first 5 natural number is 1\n",
      "sum of first 5 natural number is 3\n",
      "sum of first 5 natural number is 6\n",
      "sum of first 5 natural number is 10\n",
      "sum of first 5 natural number is 15\n"
     ]
    }
   ],
   "source": [
    "#2 WAP to get the sum of first N natural number\n",
    "n=int(input(\"Enter the number \"))\n",
    "x=0\n",
    "for i in range(1,n+1):\n",
    "    x=x+i\n",
    "    print(f\"sum of first {n} natural number is {x}\")"
   ]
  },
  {
   "cell_type": "code",
   "execution_count": 90,
   "id": "c36fc315",
   "metadata": {},
   "outputs": [
    {
     "name": "stdout",
     "output_type": "stream",
     "text": [
      "Enter a number4\n",
      "Sum of first 4 natural number is 10.0\n"
     ]
    }
   ],
   "source": [
    "#3 WAP to print the even number b/w two number entered by users\n",
    "n=int(input(\"Enter a number\"))\n",
    "final_sum=n*(n+1)/2\n",
    "print(f\"Sum of first {n} natural number is {final_sum}\")"
   ]
  },
  {
   "cell_type": "code",
   "execution_count": 94,
   "id": "2596fe43",
   "metadata": {},
   "outputs": [
    {
     "name": "stdout",
     "output_type": "stream",
     "text": [
      "Enter 1st number :3\n",
      "Enter 2nd number :10\n",
      "4\n",
      "6\n",
      "8\n",
      "10\n"
     ]
    }
   ],
   "source": [
    "#4 WAP to count the odd number b/w two numbers entered by users\n",
    "x=int(input(\"Enter 1st number :\"))\n",
    "y=int(input(\"Enter 2nd number :\"))\n",
    "for i in range(x,y+1):\n",
    "    if(i%2==0):\n",
    "        print(i)     "
   ]
  },
  {
   "cell_type": "code",
   "execution_count": 105,
   "id": "b5743562",
   "metadata": {},
   "outputs": [
    {
     "name": "stdout",
     "output_type": "stream",
     "text": [
      "factors of 10 are \n",
      " [1]\n",
      "factors of 10 are \n",
      " [1, 2]\n",
      "factors of 10 are \n",
      " [1, 2]\n",
      "factors of 10 are \n",
      " [1, 2]\n",
      "factors of 10 are \n",
      " [1, 2, 5]\n",
      "factors of 10 are \n",
      " [1, 2, 5]\n",
      "factors of 10 are \n",
      " [1, 2, 5]\n",
      "factors of 10 are \n",
      " [1, 2, 5]\n",
      "factors of 10 are \n",
      " [1, 2, 5]\n",
      "factors of 10 are \n",
      " [1, 2, 5, 10]\n"
     ]
    }
   ],
   "source": [
    "#5 WAP to find and save the factors of a number\n",
    "n=10\n",
    "fact=[] # fact=list()\n",
    "for i in range(1,n+1):\n",
    "    if n%i==0:\n",
    "        fact.append(i)\n",
    "    print(f\"factors of {n} are \\n {fact}\")"
   ]
  },
  {
   "cell_type": "code",
   "execution_count": 101,
   "id": "73b0d9a3",
   "metadata": {},
   "outputs": [
    {
     "name": "stdout",
     "output_type": "stream",
     "text": [
      "Enter 1st number :10\n",
      "Enter 2nd number :20\n",
      "Total number of odd b/w 10 and 20 are 5\n"
     ]
    }
   ],
   "source": [
    "# wap to count the count the odd number b/w two numbers entered by user\n",
    "x=int(input(\"Enter 1st number :\"))\n",
    "y=int(input(\"Enter 2nd number :\"))\n",
    "count=0\n",
    "for k in range(x,y+1):\n",
    "    if k%2!=0:\n",
    "        count=count+1\n",
    "print(f\"Total number of odd b/w {x} and {y} are {count}\")        "
   ]
  },
  {
   "cell_type": "code",
   "execution_count": null,
   "id": "809569ea",
   "metadata": {},
   "outputs": [],
   "source": [
    "# wap to print the following pattern ## Half Parameter\n",
    "A)\n",
    "1\n",
    "1 2\n",
    "1 2 3\n",
    "1 2 3 4\n",
    "\n",
    "B)\n",
    "****\n",
    "***\n",
    "**\n",
    "*"
   ]
  },
  {
   "cell_type": "code",
   "execution_count": 227,
   "id": "f839926a",
   "metadata": {},
   "outputs": [
    {
     "name": "stdout",
     "output_type": "stream",
     "text": [
      "\n",
      "1 \n",
      "1 2 \n",
      "1 2 3 \n",
      "1 2 3 4 \n"
     ]
    }
   ],
   "source": [
    "for i in range(1,6):\n",
    "    for k in range(1,i-0):\n",
    "        print(k,end=\" \")\n",
    "    print()"
   ]
  },
  {
   "cell_type": "code",
   "execution_count": 114,
   "id": "50182d40",
   "metadata": {},
   "outputs": [
    {
     "name": "stdout",
     "output_type": "stream",
     "text": [
      "1 \n",
      "1 2 \n",
      "1 2 3 \n",
      "1 2 3 4 \n",
      "1 2 3 4 5 \n",
      "1 2 3 4 5 6 \n"
     ]
    }
   ],
   "source": [
    "for i in range(1,6+1):\n",
    "    for k in range(1,i+1):\n",
    "        print(k,end=\" \")\n",
    "    print()"
   ]
  },
  {
   "cell_type": "code",
   "execution_count": 115,
   "id": "d643167d",
   "metadata": {},
   "outputs": [
    {
     "name": "stdout",
     "output_type": "stream",
     "text": [
      "1 \n",
      "\n",
      "1 2 \n",
      "\n",
      "1 2 3 \n",
      "\n",
      "1 2 3 4 \n",
      "\n",
      "1 2 3 4 5 \n",
      "\n",
      "1 2 3 4 5 6 \n",
      "\n"
     ]
    }
   ],
   "source": [
    "for i in range(1,6+1):\n",
    "    for k in range(1,i+1):\n",
    "        print(k,end=\" \")\n",
    "    print(\"\\n\")"
   ]
  },
  {
   "cell_type": "code",
   "execution_count": 119,
   "id": "a548dd01",
   "metadata": {},
   "outputs": [
    {
     "name": "stdout",
     "output_type": "stream",
     "text": [
      "*  \n",
      "* *  \n",
      "* * *  \n",
      "* * * *  \n",
      "* * * * *  \n",
      "* * * * * *  \n"
     ]
    }
   ],
   "source": [
    "for i in range(1,6+1):\n",
    "    for k in range(1,(i+1)):\n",
    "        print(\"*\",end=\" \")\n",
    "    print(\" \")"
   ]
  },
  {
   "cell_type": "code",
   "execution_count": null,
   "id": "60b08300",
   "metadata": {},
   "outputs": [],
   "source": [
    "1\n",
    "2 2\n",
    "3 3 3\n",
    "4 4 4 4\n",
    "5 5 5 5 5"
   ]
  },
  {
   "cell_type": "code",
   "execution_count": 123,
   "id": "b76f6652",
   "metadata": {},
   "outputs": [
    {
     "name": "stdout",
     "output_type": "stream",
     "text": [
      "1  \n",
      "2 2  \n",
      "3 3 3  \n",
      "4 4 4 4  \n",
      "5 5 5 5 5  \n",
      "6 6 6 6 6 6  \n"
     ]
    }
   ],
   "source": [
    "for i in range(1,6+1):\n",
    "    for k in range(1,(i+1)):\n",
    "        print(i,end=\" \")\n",
    "    print(\" \")"
   ]
  },
  {
   "cell_type": "code",
   "execution_count": 133,
   "id": "8908de91",
   "metadata": {},
   "outputs": [
    {
     "name": "stdout",
     "output_type": "stream",
     "text": [
      "6 6 6 6 6 6  \n",
      "5 5 5 5 5  \n",
      "4 4 4 4  \n",
      "3 3 3  \n",
      "2 2  \n",
      "1  \n"
     ]
    }
   ],
   "source": [
    "# Inverted half pyramid\n",
    "55555\n",
    "4444\n",
    "333\n",
    "22\n",
    "1\n",
    "\n",
    "\n",
    "\n",
    "\n",
    "for i in range(6,0,-1):\n",
    "    for k in range(1,(i+1)):\n",
    "        print(i,end=\" \")\n",
    "    print(\" \")"
   ]
  },
  {
   "cell_type": "code",
   "execution_count": null,
   "id": "ed38c165",
   "metadata": {},
   "outputs": [],
   "source": [
    "# Pattern\n",
    "1\n",
    "2 1 \n",
    "3 2 1\n",
    "4 3 2 1\n",
    "5 4 3 2 1\n",
    "6 5 4 3 2 1"
   ]
  },
  {
   "cell_type": "code",
   "execution_count": 153,
   "id": "d4f62da6",
   "metadata": {},
   "outputs": [
    {
     "name": "stdout",
     "output_type": "stream",
     "text": [
      "1  \n",
      "2 1  \n",
      "3 2 1  \n",
      "4 3 2 1  \n",
      "5 4 3 2 1  \n",
      "6 5 4 3 2 1  \n"
     ]
    }
   ],
   "source": [
    "for i in range(1,6+1):\n",
    "    for k in range(i,0,-1):\n",
    "        print(k,end=\" \")\n",
    "    print(\" \")"
   ]
  },
  {
   "cell_type": "code",
   "execution_count": null,
   "id": "8c05498d",
   "metadata": {},
   "outputs": [],
   "source": [
    "#         1 \n",
    "        1 2\n",
    "      1 2 3\n",
    "    1 2 3 4\n",
    "  1 2 3 4 5\n",
    "1 2 3 4 5 6"
   ]
  },
  {
   "cell_type": "code",
   "execution_count": 160,
   "id": "b12762ba",
   "metadata": {},
   "outputs": [
    {
     "name": "stdout",
     "output_type": "stream",
     "text": [
      "     1\n",
      "    12\n",
      "   123\n",
      "  1234\n",
      " 12345\n",
      "123456\n"
     ]
    }
   ],
   "source": [
    "for i in range(1,6+1):\n",
    "    for k in range(1,6-i+1):\n",
    "        print(\" \",end=\"\")\n",
    "    for l in range(1,i+1):\n",
    "        print(l,end=\"\")\n",
    "    print()    "
   ]
  },
  {
   "cell_type": "code",
   "execution_count": 161,
   "id": "b8ee516c",
   "metadata": {},
   "outputs": [
    {
     "name": "stdout",
     "output_type": "stream",
     "text": [
      "     1 \n",
      "    1 2 \n",
      "   1 2 3 \n",
      "  1 2 3 4 \n",
      " 1 2 3 4 5 \n",
      "1 2 3 4 5 6 \n"
     ]
    }
   ],
   "source": [
    "for i in range(1,6+1):\n",
    "    for k in range(1,6-i+1):\n",
    "        print(\" \",end=\"\")\n",
    "    for l in range(1,i+1):\n",
    "        print(l,end=\" \")\n",
    "    print()   "
   ]
  },
  {
   "cell_type": "code",
   "execution_count": 163,
   "id": "03629657",
   "metadata": {},
   "outputs": [
    {
     "name": "stdout",
     "output_type": "stream",
     "text": [
      "     A \n",
      "    A B \n",
      "   A B C \n",
      "  A B C D \n",
      " A B C D E \n",
      "A B C D E F \n"
     ]
    }
   ],
   "source": [
    "for i in range(1,6+1):\n",
    "    for k in range(1,6-i+1):\n",
    "        print(\" \",end=\"\")\n",
    "    for l in range(1,i+1):\n",
    "        print(chr(l+64),end=\" \")\n",
    "    print()"
   ]
  },
  {
   "cell_type": "code",
   "execution_count": 167,
   "id": "804cf36c",
   "metadata": {},
   "outputs": [
    {
     "name": "stdout",
     "output_type": "stream",
     "text": [
      "     \u0001 \n",
      "    \u0001 \u0002 \n",
      "   \u0001 \u0002 \u0003 \n",
      "  \u0001 \u0002 \u0003 \u0004 \n",
      " \u0001 \u0002 \u0003 \u0004 \u0005 \n",
      "\u0001 \u0002 \u0003 \u0004 \u0005 \u0006 \n"
     ]
    }
   ],
   "source": [
    "for i in range(1,6+1):\n",
    "    for k in range(1,6-i+1):\n",
    "        print(\" \",end=\"\")\n",
    "    for l in range(1,i+1):\n",
    "        print(chr(l),end=\" \")\n",
    "    print()"
   ]
  },
  {
   "cell_type": "code",
   "execution_count": null,
   "id": "1fab4384",
   "metadata": {},
   "outputs": [],
   "source": [
    "#\n",
    "1\n",
    "2 3\n",
    "4 5 6\n",
    "7 8 9 10\n",
    "11 12 13 14 15\n",
    "16 17 18 19 20 21"
   ]
  },
  {
   "cell_type": "code",
   "execution_count": 184,
   "id": "08f1b45f",
   "metadata": {},
   "outputs": [
    {
     "name": "stdout",
     "output_type": "stream",
     "text": [
      "1 \n",
      "2 3 \n",
      "4 5 6 \n",
      "7 8 9 10 \n",
      "11 12 13 14 15 \n",
      "16 17 18 19 20 21 \n",
      "22 23 24 25 26 27 28 \n",
      "29 30 31 32 33 34 35 36 \n",
      "37 38 39 40 41 42 43 44 45 \n"
     ]
    }
   ],
   "source": [
    "d=1\n",
    "df=1\n",
    "for i in range(1,10):\n",
    "    for k in range(i,i+d):\n",
    "        print(df,end=\" \")\n",
    "        df+=1\n",
    "    print()\n",
    "    d+=1"
   ]
  },
  {
   "cell_type": "code",
   "execution_count": 209,
   "id": "1899631c",
   "metadata": {},
   "outputs": [
    {
     "ename": "SyntaxError",
     "evalue": "invalid syntax (2089581973.py, line 2)",
     "output_type": "error",
     "traceback": [
      "\u001b[1;36m  File \u001b[1;32m\"C:\\Users\\Bipl0231\\AppData\\Local\\Temp\\ipykernel_7792\\2089581973.py\"\u001b[1;36m, line \u001b[1;32m2\u001b[0m\n\u001b[1;33m    *Given an integer, , perform the following conditional actions:\u001b[0m\n\u001b[1;37m           ^\u001b[0m\n\u001b[1;31mSyntaxError\u001b[0m\u001b[1;31m:\u001b[0m invalid syntax\n"
     ]
    }
   ],
   "source": [
    "*Task\n",
    "*Given an integer, , perform the following conditional actions:\n",
    "\n",
    "*If  is odd, print Weird\n",
    "*If  is even and in the inclusive range of 2 to 5 , print Not Weird\n",
    "*If  is even and in the inclusive range of  6 to 20 , print Weird\n",
    "*If  is even and greater than 20,print Not Weird\n",
    "\n",
    "\n",
    "\n",
    "x=intput(int(\"Enter the eneter\"))\n",
    "if x%2!=0 and (6>=x<=20) :\n",
    "    print(\"Weird\") \n",
    "elif (2>=x<=5) :\n",
    "    print(\"Not Weird\")\n",
    "elif (x>20) :\n",
    "    print(\"Not Weird\")\n",
    "else:\n",
    "    print(\"the data\")    \n",
    "              \n",
    "            "
   ]
  },
  {
   "cell_type": "code",
   "execution_count": 199,
   "id": "71586f44",
   "metadata": {},
   "outputs": [],
   "source": [
    "\n",
    " \n",
    "#elif (2>=x<=5):\n",
    " #   print(\"Not Weird\")\n",
    "#elif (6>=x<=20):\n",
    "#    print('Weird')\n",
    "#elif (x>20):\n",
    " #   print(\"Not Weird\")\n",
    "#else:\n",
    " #   print(\"the data\")    \n",
    "            "
   ]
  },
  {
   "cell_type": "code",
   "execution_count": 222,
   "id": "6b13c62b",
   "metadata": {},
   "outputs": [
    {
     "name": "stdout",
     "output_type": "stream",
     "text": [
      "No idea\n"
     ]
    }
   ],
   "source": [
    "x=10\n",
    "if any([6>=x<=20 and x%2!=0]):\n",
    "    print(\"weird\")\n",
    "elif any([2>=x<=5 and x>20]):\n",
    "    print(\"Not Weird\")\n",
    "else:\n",
    "    print(\"No idea\")"
   ]
  },
  {
   "cell_type": "code",
   "execution_count": 225,
   "id": "322efa01",
   "metadata": {},
   "outputs": [
    {
     "name": "stdout",
     "output_type": "stream",
     "text": [
      "Enter an integer: 4\n",
      "Not Weird\n"
     ]
    }
   ],
   "source": [
    "*Task\n",
    "*Given an integer, , perform the following conditional actions:\n",
    "\n",
    "*If  is odd, print Weird\n",
    "*If  is even and in the inclusive range of 2 to 5 , print Not Weird\n",
    "*If  is even and in the inclusive range of  6 to 20 , print Weird\n",
    "*If  is even and greater than 20,print Not Weird\n",
    "\n",
    "\n",
    "\n",
    "\n",
    "\n",
    "\n",
    "n = int(input(\"Enter an integer: \"))\n",
    "\n",
    "if n % 2 != 0:\n",
    "    print(\"Weird\")\n",
    "else:\n",
    "    if n in range(2, 6):\n",
    "        print(\"Not Weird\")\n",
    "    elif n in range(6, 21):\n",
    "        print(\"Weird\")\n",
    "    else:\n",
    "        print(\"Not Weird\")\n",
    "        \n",
    "        \n",
    "--------------------------------------------------------------\n",
    "n = int(input(\"Enter an integer: \"))\n",
    "\n",
    "if n % 2 != 0:\n",
    "    print(\"Weird\")\n",
    "elif n%2==0 and n in range(2,6):\n",
    "    print(\"Not Weired\")\n",
    "elif n%2==0 and n in range(6,21):\n",
    "    print(\"Weired\")\n",
    "elif n%2==0 and n>20:\n",
    "    print(\"Not Weired\")"
   ]
  },
  {
   "cell_type": "markdown",
   "id": "271f8515",
   "metadata": {},
   "source": [
    "# H.C.F. / GCD\n",
    "##### 20May2023"
   ]
  },
  {
   "cell_type": "markdown",
   "id": "64fd5da9",
   "metadata": {},
   "source": [
    "* 1. CAP to find the gcd/hcf of two numbers"
   ]
  },
  {
   "cell_type": "code",
   "execution_count": 235,
   "id": "b24ca3c2",
   "metadata": {},
   "outputs": [
    {
     "name": "stdout",
     "output_type": "stream",
     "text": [
      "Enter the N1 number :15\n",
      "Enter the N2 number :12\n",
      "GCD :  3\n"
     ]
    }
   ],
   "source": [
    "n1=int(input(\"Enter the N1 number :\"))\n",
    "n2=int(input(\"Enter the N2 number :\"))\n",
    "fact_n1=[]\n",
    "for i in range(1,n1+1):\n",
    "    if n1%i==0:\n",
    "        fact_n1.append(i)\n",
    "\n",
    "fact_n2=[]        \n",
    "for j in range(1,n2+1):\n",
    "    if n2%j==0:\n",
    "        fact_n2.append(j)\n",
    "        \n",
    "com_fact=[]\n",
    "for k in fact_n1:\n",
    "    if k in fact_n2:\n",
    "        com_fact.append(k)\n",
    "print(\"GCD : \",max(com_fact))        \n",
    "        \n",
    "        "
   ]
  },
  {
   "cell_type": "markdown",
   "id": "e752188c",
   "metadata": {},
   "source": [
    "* 2. CAP to check the prime number"
   ]
  },
  {
   "cell_type": "code",
   "execution_count": 242,
   "id": "d1b77c1e",
   "metadata": {},
   "outputs": [
    {
     "name": "stdout",
     "output_type": "stream",
     "text": [
      "Prime\n"
     ]
    }
   ],
   "source": [
    "## 2 and greater than 2\n",
    "n=2\n",
    "fact_n=[]\n",
    "for a in range (2,n):\n",
    "    if n%a==0:\n",
    "        print(\"Not a prime\")\n",
    "        break\n",
    "        \n",
    "else:\n",
    "    print(\"Prime\")"
   ]
  },
  {
   "cell_type": "code",
   "execution_count": 248,
   "id": "449d3938",
   "metadata": {},
   "outputs": [
    {
     "ename": "SyntaxError",
     "evalue": "invalid syntax (3928370473.py, line 9)",
     "output_type": "error",
     "traceback": [
      "\u001b[1;36m  File \u001b[1;32m\"C:\\Users\\Bipl0231\\AppData\\Local\\Temp\\ipykernel_7792\\3928370473.py\"\u001b[1;36m, line \u001b[1;32m9\u001b[0m\n\u001b[1;33m    else:\u001b[0m\n\u001b[1;37m    ^\u001b[0m\n\u001b[1;31mSyntaxError\u001b[0m\u001b[1;31m:\u001b[0m invalid syntax\n"
     ]
    }
   ],
   "source": [
    "n=13\n",
    "if n==1:\n",
    "    print(\"Not a prime\")\n",
    "else:\n",
    "    for i in range (2,n):\n",
    "        if n%i==0:\n",
    "            print(\"Not a prime\")\n",
    "            break\n",
    "else:\n",
    "    print(\"Prime\")"
   ]
  },
  {
   "cell_type": "markdown",
   "id": "c106da36",
   "metadata": {},
   "source": [
    "* 3. Find the  prime number b/w two numbers?"
   ]
  },
  {
   "cell_type": "code",
   "execution_count": 262,
   "id": "39d3c6c0",
   "metadata": {},
   "outputs": [
    {
     "data": {
      "text/plain": [
       "[2, 3, 5, 7, 11, 13, 17, 19]"
      ]
     },
     "execution_count": 262,
     "metadata": {},
     "output_type": "execute_result"
    }
   ],
   "source": [
    "n=100\n",
    "n1=500\n",
    "gh=[]\n",
    "for k in range (2,20):\n",
    "    for i in range(2,k):\n",
    "        if k%i==0:\n",
    "            break\n",
    "    else:\n",
    "        gh.append(k)\n",
    "gh"
   ]
  },
  {
   "cell_type": "markdown",
   "id": "4c9ec348",
   "metadata": {},
   "source": [
    "* 4. Find the factorial of given number\n",
    "* 4!=4*3*2*1\n",
    "* 10!=10*9*8*7*6*5*4*3*2*1"
   ]
  },
  {
   "cell_type": "code",
   "execution_count": 265,
   "id": "c9fcddae",
   "metadata": {},
   "outputs": [
    {
     "name": "stdout",
     "output_type": "stream",
     "text": [
      "120\n"
     ]
    }
   ],
   "source": [
    "n=5\n",
    "m=1\n",
    "for i in range(1,n+1):\n",
    "    m=m*i\n",
    "print(m)    "
   ]
  },
  {
   "cell_type": "markdown",
   "id": "101d09ed",
   "metadata": {},
   "source": [
    "* 5. Fibonocci Series"
   ]
  },
  {
   "cell_type": "code",
   "execution_count": null,
   "id": "aadae015",
   "metadata": {},
   "outputs": [],
   "source": [
    "1,1,2,3,5,8,13,21,........."
   ]
  },
  {
   "cell_type": "code",
   "execution_count": 266,
   "id": "9a780325",
   "metadata": {},
   "outputs": [
    {
     "ename": "SyntaxError",
     "evalue": "invalid syntax (4239291764.py, line 3)",
     "output_type": "error",
     "traceback": [
      "\u001b[1;36m  File \u001b[1;32m\"C:\\Users\\Bipl0231\\AppData\\Local\\Temp\\ipykernel_7792\\4239291764.py\"\u001b[1;36m, line \u001b[1;32m3\u001b[0m\n\u001b[1;33m    for i range(1,1*x):\u001b[0m\n\u001b[1;37m          ^\u001b[0m\n\u001b[1;31mSyntaxError\u001b[0m\u001b[1;31m:\u001b[0m invalid syntax\n"
     ]
    }
   ],
   "source": [
    "a=1\n",
    "x=i\n",
    "x=[]\n",
    "for i range(1,1*x):\n",
    "    x=x*i+a*1\n",
    "print(x)    "
   ]
  },
  {
   "cell_type": "markdown",
   "id": "fe2421c4",
   "metadata": {},
   "source": [
    "# While LOOP \n",
    "#### 20may2023"
   ]
  },
  {
   "cell_type": "code",
   "execution_count": 270,
   "id": "7640b4fd",
   "metadata": {},
   "outputs": [
    {
     "name": "stdout",
     "output_type": "stream",
     "text": [
      "53.416666666666664\n"
     ]
    }
   ],
   "source": [
    "n=2000\n",
    "t=2000\n",
    "t=.15/12\n",
    "cnt=0\n",
    "while n<=10000000:\n",
    "    n=n*(1+t)+k\n",
    "    # print(n)\n",
    "    cnt+=1\n",
    "print(cnt/12)    \n",
    "    "
   ]
  },
  {
   "cell_type": "markdown",
   "id": "86488275",
   "metadata": {},
   "source": [
    "* 6. Find the factorial of given number"
   ]
  },
  {
   "cell_type": "code",
   "execution_count": 272,
   "id": "5e836948",
   "metadata": {},
   "outputs": [
    {
     "name": "stdout",
     "output_type": "stream",
     "text": [
      "120\n"
     ]
    }
   ],
   "source": [
    "n=5  ## find Factorial number\n",
    "k=1\n",
    "while n>0:\n",
    "    k*=(n)\n",
    "    n=n-1\n",
    "print(k)    "
   ]
  },
  {
   "cell_type": "markdown",
   "id": "bcc5146e",
   "metadata": {},
   "source": [
    "# Function in PYTHON"
   ]
  },
  {
   "cell_type": "markdown",
   "id": "43ef2075",
   "metadata": {},
   "source": [
    "* Build in Functions :- Sum,fro,len,set,dict,tuple.......etc\n",
    "* User Defined function :- Functions which user creates for its usages\n",
    "* Annonymous Function :- Lambda function (One line function)     "
   ]
  },
  {
   "cell_type": "code",
   "execution_count": null,
   "id": "dd4436d1",
   "metadata": {},
   "outputs": [],
   "source": [
    "# # Syntax for user defined function\n",
    "# def function_name(arg1,arg2,arg3,arg4.......):                ## arg-values\n",
    "#     \"\"\" docstring : about the functions and its usages\n",
    "#     edfg\n",
    "#     erfgh\n",
    "#     efhjf\n",
    "#     \"\"\"\n",
    "#     action/statement/condition/etc........\n",
    "#     print()/return"
   ]
  },
  {
   "cell_type": "code",
   "execution_count": 278,
   "id": "0bd2e0c7",
   "metadata": {},
   "outputs": [
    {
     "data": {
      "text/plain": [
       "[323, 2]"
      ]
     },
     "execution_count": 278,
     "metadata": {},
     "output_type": "execute_result"
    }
   ],
   "source": [
    "import random as rm\n",
    "rm.choices([2,5,323,24,1,45,23],k=2)"
   ]
  },
  {
   "cell_type": "code",
   "execution_count": 279,
   "id": "074c4453",
   "metadata": {},
   "outputs": [],
   "source": [
    "def mysum_two_number(x,y):\n",
    "    \"\"\"This program is created for getting the sum of two numbers x and y\n",
    "    details:\n",
    "    x: any number\n",
    "    y: any number\n",
    "    \n",
    "    examples:\n",
    "    x=2 ; y=4\n",
    "    z=x+y\n",
    "    ==> 6\n",
    "    \"\"\"\n",
    "    z=x+y\n",
    "    print(z)"
   ]
  },
  {
   "cell_type": "code",
   "execution_count": 280,
   "id": "9cd36b50",
   "metadata": {},
   "outputs": [
    {
     "name": "stdout",
     "output_type": "stream",
     "text": [
      "4\n"
     ]
    }
   ],
   "source": [
    "mysum_two_number(1,3)"
   ]
  },
  {
   "cell_type": "code",
   "execution_count": 281,
   "id": "11848e57",
   "metadata": {},
   "outputs": [],
   "source": [
    "# Create a function to get square root of a number?\n",
    "z=(x)**(1/2)\n",
    "\n",
    "def sqroot(x):\n",
    "    z=(x)**(1/2)\n",
    "    return z"
   ]
  },
  {
   "cell_type": "code",
   "execution_count": 282,
   "id": "704dc309",
   "metadata": {},
   "outputs": [
    {
     "data": {
      "text/plain": [
       "2.0"
      ]
     },
     "execution_count": 282,
     "metadata": {},
     "output_type": "execute_result"
    }
   ],
   "source": [
    "sqroot(4)"
   ]
  },
  {
   "cell_type": "code",
   "execution_count": 284,
   "id": "4bb7eda1",
   "metadata": {},
   "outputs": [
    {
     "data": {
      "text/plain": [
       "2.8284271247461903"
      ]
     },
     "execution_count": 284,
     "metadata": {},
     "output_type": "execute_result"
    }
   ],
   "source": [
    "sqroot(8)"
   ]
  },
  {
   "cell_type": "code",
   "execution_count": 285,
   "id": "28adcae2",
   "metadata": {},
   "outputs": [],
   "source": [
    "#  create a function to get N th root of a number\n",
    "# z=(x)**(1/n)\n",
    "def root(x,n):\n",
    "    z=(x)**(1/n)\n",
    "    return z"
   ]
  },
  {
   "cell_type": "code",
   "execution_count": 287,
   "id": "aee776c6",
   "metadata": {},
   "outputs": [
    {
     "data": {
      "text/plain": [
       "2.23606797749979"
      ]
     },
     "execution_count": 287,
     "metadata": {},
     "output_type": "execute_result"
    }
   ],
   "source": [
    "root(5,2)"
   ]
  },
  {
   "cell_type": "code",
   "execution_count": 298,
   "id": "e66217c1",
   "metadata": {},
   "outputs": [
    {
     "name": "stdout",
     "output_type": "stream",
     "text": [
      "1\n",
      "2\n",
      "3\n",
      "-1\n",
      "2\n"
     ]
    }
   ],
   "source": [
    "## use +,-,* operators at one time\n",
    "a = int(input())\n",
    "b = int(input())\n",
    "print(a+b) \n",
    "print(a-b)  \n",
    "print(a*b)\n"
   ]
  },
  {
   "cell_type": "markdown",
   "id": "47f7fbd3",
   "metadata": {},
   "source": [
    "## Task\n",
    "The provided code stub reads two integers, a and b , from STDIN.\n",
    "\n",
    "Add logic to print two lines. The first line should contain the result of integer division,  a//b . \n",
    "The second line should contain the result of float division, a /b .\n",
    "\n",
    "No rounding or formatting is necessary.\n",
    "\n",
    "Example\n",
    "a=3\n",
    "b=5\n",
    "\n",
    "\n",
    "The result of the integer division 3//5=0.\n",
    "The result of the float division is 3/5=0.6."
   ]
  },
  {
   "cell_type": "code",
   "execution_count": 300,
   "id": "e367c5fb",
   "metadata": {},
   "outputs": [
    {
     "name": "stdout",
     "output_type": "stream",
     "text": [
      "3\n",
      "5\n",
      "0\n",
      "0.6\n"
     ]
    }
   ],
   "source": [
    "if __name__ == '__main__':\n",
    "    a = int(input())\n",
    "    b = int(input())\n",
    "    print(int(a//b))\n",
    "    print(float(a/b))"
   ]
  },
  {
   "cell_type": "markdown",
   "id": "88e711f6",
   "metadata": {},
   "source": [
    "## Area of Circle          1.5\n",
    "\n",
    "### 21May2023"
   ]
  },
  {
   "cell_type": "code",
   "execution_count": 306,
   "id": "3f908a1e",
   "metadata": {},
   "outputs": [
    {
     "ename": "SyntaxError",
     "evalue": "non-default argument follows default argument (929538048.py, line 2)",
     "output_type": "error",
     "traceback": [
      "\u001b[1;36m  File \u001b[1;32m\"C:\\Users\\Bipl0231\\AppData\\Local\\Temp\\ipykernel_7792\\929538048.py\"\u001b[1;36m, line \u001b[1;32m2\u001b[0m\n\u001b[1;33m    def area_circle(pi=22/7,r):      ## Here non default argument follows default argumenet\u001b[0m\n\u001b[1;37m                             ^\u001b[0m\n\u001b[1;31mSyntaxError\u001b[0m\u001b[1;31m:\u001b[0m non-default argument follows default argument\n"
     ]
    }
   ],
   "source": [
    "# a=pi * (r**2)            \n",
    "def area_circle(pi=22/7,r):      ## Here non default argument follows default argumenet\n",
    "    a=pi*(r**2)\n",
    "    return a"
   ]
  },
  {
   "cell_type": "code",
   "execution_count": 308,
   "id": "fa5d0f29",
   "metadata": {},
   "outputs": [],
   "source": [
    "def area_circle(r,pi=22/7):\n",
    "    a=pi*(r**2)\n",
    "    return a"
   ]
  },
  {
   "cell_type": "code",
   "execution_count": 309,
   "id": "dc82625b",
   "metadata": {},
   "outputs": [
    {
     "data": {
      "text/plain": [
       "78.57142857142857"
      ]
     },
     "execution_count": 309,
     "metadata": {},
     "output_type": "execute_result"
    }
   ],
   "source": [
    "area_circle(5)"
   ]
  },
  {
   "cell_type": "markdown",
   "id": "5331b3a7",
   "metadata": {},
   "source": [
    "#### Key Argumenent Usage"
   ]
  },
  {
   "cell_type": "code",
   "execution_count": 312,
   "id": "6261e511",
   "metadata": {},
   "outputs": [
    {
     "data": {
      "text/plain": [
       "78.5"
      ]
     },
     "execution_count": 312,
     "metadata": {},
     "output_type": "execute_result"
    }
   ],
   "source": [
    "area_circle(r=5,pi=3.14)"
   ]
  },
  {
   "cell_type": "markdown",
   "id": "8e963732",
   "metadata": {},
   "source": [
    "#### Positional arguments Usages"
   ]
  },
  {
   "cell_type": "code",
   "execution_count": 313,
   "id": "986b6c2c",
   "metadata": {},
   "outputs": [
    {
     "data": {
      "text/plain": [
       "49.298"
      ]
     },
     "execution_count": 313,
     "metadata": {},
     "output_type": "execute_result"
    }
   ],
   "source": [
    "area_circle(3.14,5)"
   ]
  },
  {
   "cell_type": "markdown",
   "id": "c09cfed5",
   "metadata": {},
   "source": [
    "#### Annonymous Arguments"
   ]
  },
  {
   "cell_type": "code",
   "execution_count": 315,
   "id": "cb05efc0",
   "metadata": {},
   "outputs": [],
   "source": [
    "def mysumfunction(*args):              ##### Sum=0,multiple=1\n",
    "    s=0\n",
    "    for i in args:\n",
    "        s+=i\n",
    "    return s    \n",
    "        "
   ]
  },
  {
   "cell_type": "code",
   "execution_count": 316,
   "id": "e04c2c78",
   "metadata": {},
   "outputs": [
    {
     "data": {
      "text/plain": [
       "55"
      ]
     },
     "execution_count": 316,
     "metadata": {},
     "output_type": "execute_result"
    }
   ],
   "source": [
    "mysumfunction(2,4,6,3,4,6,4,3,6,8,9)"
   ]
  },
  {
   "cell_type": "code",
   "execution_count": 317,
   "id": "c6fa3f44",
   "metadata": {},
   "outputs": [],
   "source": [
    "def myproductfunction(*args):              ##### Sum=0,multiple=1\n",
    "    s=1\n",
    "    for i in args:\n",
    "        s*=i\n",
    "    return s    \n",
    "        "
   ]
  },
  {
   "cell_type": "code",
   "execution_count": 318,
   "id": "a778faff",
   "metadata": {},
   "outputs": [
    {
     "data": {
      "text/plain": [
       "45"
      ]
     },
     "execution_count": 318,
     "metadata": {},
     "output_type": "execute_result"
    }
   ],
   "source": [
    "myproductfunction(3,5,3)"
   ]
  },
  {
   "cell_type": "code",
   "execution_count": 321,
   "id": "10ff3aeb",
   "metadata": {},
   "outputs": [],
   "source": [
    "def mykey(*kwargs):\n",
    "    for key, value in kwargs.items():\n",
    "        print(value*2)"
   ]
  },
  {
   "cell_type": "code",
   "execution_count": 325,
   "id": "75b51837",
   "metadata": {},
   "outputs": [
    {
     "ename": "AttributeError",
     "evalue": "'tuple' object has no attribute 'items'",
     "output_type": "error",
     "traceback": [
      "\u001b[1;31m---------------------------------------------------------------------------\u001b[0m",
      "\u001b[1;31mAttributeError\u001b[0m                            Traceback (most recent call last)",
      "\u001b[1;32m~\\AppData\\Local\\Temp\\ipykernel_7792\\1434626730.py\u001b[0m in \u001b[0;36m<module>\u001b[1;34m\u001b[0m\n\u001b[1;32m----> 1\u001b[1;33m \u001b[0mmykey\u001b[0m\u001b[1;33m(\u001b[0m\u001b[1;36m4\u001b[0m\u001b[1;33m)\u001b[0m\u001b[1;33m\u001b[0m\u001b[1;33m\u001b[0m\u001b[0m\n\u001b[0m",
      "\u001b[1;32m~\\AppData\\Local\\Temp\\ipykernel_7792\\4123401711.py\u001b[0m in \u001b[0;36mmykey\u001b[1;34m(*kwargs)\u001b[0m\n\u001b[0;32m      1\u001b[0m \u001b[1;32mdef\u001b[0m \u001b[0mmykey\u001b[0m\u001b[1;33m(\u001b[0m\u001b[1;33m*\u001b[0m\u001b[0mkwargs\u001b[0m\u001b[1;33m)\u001b[0m\u001b[1;33m:\u001b[0m\u001b[1;33m\u001b[0m\u001b[1;33m\u001b[0m\u001b[0m\n\u001b[1;32m----> 2\u001b[1;33m     \u001b[1;32mfor\u001b[0m \u001b[0mkey\u001b[0m\u001b[1;33m,\u001b[0m \u001b[0mvalue\u001b[0m \u001b[1;32min\u001b[0m \u001b[0mkwargs\u001b[0m\u001b[1;33m.\u001b[0m\u001b[0mitems\u001b[0m\u001b[1;33m(\u001b[0m\u001b[1;33m)\u001b[0m\u001b[1;33m:\u001b[0m\u001b[1;33m\u001b[0m\u001b[1;33m\u001b[0m\u001b[0m\n\u001b[0m\u001b[0;32m      3\u001b[0m         \u001b[0mprint\u001b[0m\u001b[1;33m(\u001b[0m\u001b[0mvalue\u001b[0m\u001b[1;33m*\u001b[0m\u001b[1;36m2\u001b[0m\u001b[1;33m)\u001b[0m\u001b[1;33m\u001b[0m\u001b[1;33m\u001b[0m\u001b[0m\n",
      "\u001b[1;31mAttributeError\u001b[0m: 'tuple' object has no attribute 'items'"
     ]
    }
   ],
   "source": [
    "mykey(4)"
   ]
  },
  {
   "cell_type": "markdown",
   "id": "261e89ea",
   "metadata": {},
   "source": [
    "### Scope in Python\n",
    "* Local Variable\n",
    "* Global Variable"
   ]
  },
  {
   "cell_type": "code",
   "execution_count": 326,
   "id": "dd1d6c24",
   "metadata": {},
   "outputs": [],
   "source": [
    "def cylinder(r,h):\n",
    "    TSA=2*pi*r*(r+h)\n",
    "    SA=2*pi*r*h\n",
    "    vol=pi*(r**2)*h\n",
    "    d={\"Total surface area\" : TSA,\n",
    "    'Surface area' : SA,\n",
    "    'Volume' : vol}\n",
    "    return d"
   ]
  },
  {
   "cell_type": "code",
   "execution_count": 327,
   "id": "2e11515b",
   "metadata": {},
   "outputs": [
    {
     "ename": "NameError",
     "evalue": "name 'pi' is not defined",
     "output_type": "error",
     "traceback": [
      "\u001b[1;31m---------------------------------------------------------------------------\u001b[0m",
      "\u001b[1;31mNameError\u001b[0m                                 Traceback (most recent call last)",
      "\u001b[1;32m~\\AppData\\Local\\Temp\\ipykernel_7792\\567691551.py\u001b[0m in \u001b[0;36m<module>\u001b[1;34m\u001b[0m\n\u001b[1;32m----> 1\u001b[1;33m \u001b[0mcylinder\u001b[0m\u001b[1;33m(\u001b[0m\u001b[1;36m10\u001b[0m\u001b[1;33m,\u001b[0m\u001b[1;36m11\u001b[0m\u001b[1;33m)\u001b[0m\u001b[1;33m\u001b[0m\u001b[1;33m\u001b[0m\u001b[0m\n\u001b[0m",
      "\u001b[1;32m~\\AppData\\Local\\Temp\\ipykernel_7792\\1074738269.py\u001b[0m in \u001b[0;36mcylinder\u001b[1;34m(r, h)\u001b[0m\n\u001b[0;32m      1\u001b[0m \u001b[1;32mdef\u001b[0m \u001b[0mcylinder\u001b[0m\u001b[1;33m(\u001b[0m\u001b[0mr\u001b[0m\u001b[1;33m,\u001b[0m\u001b[0mh\u001b[0m\u001b[1;33m)\u001b[0m\u001b[1;33m:\u001b[0m\u001b[1;33m\u001b[0m\u001b[1;33m\u001b[0m\u001b[0m\n\u001b[1;32m----> 2\u001b[1;33m     \u001b[0mTSA\u001b[0m\u001b[1;33m=\u001b[0m\u001b[1;36m2\u001b[0m\u001b[1;33m*\u001b[0m\u001b[0mpi\u001b[0m\u001b[1;33m*\u001b[0m\u001b[0mr\u001b[0m\u001b[1;33m*\u001b[0m\u001b[1;33m(\u001b[0m\u001b[0mr\u001b[0m\u001b[1;33m+\u001b[0m\u001b[0mh\u001b[0m\u001b[1;33m)\u001b[0m\u001b[1;33m\u001b[0m\u001b[1;33m\u001b[0m\u001b[0m\n\u001b[0m\u001b[0;32m      3\u001b[0m     \u001b[0mSA\u001b[0m\u001b[1;33m=\u001b[0m\u001b[1;36m2\u001b[0m\u001b[1;33m*\u001b[0m\u001b[0mpi\u001b[0m\u001b[1;33m*\u001b[0m\u001b[0mr\u001b[0m\u001b[1;33m*\u001b[0m\u001b[0mh\u001b[0m\u001b[1;33m\u001b[0m\u001b[1;33m\u001b[0m\u001b[0m\n\u001b[0;32m      4\u001b[0m     \u001b[0mvol\u001b[0m\u001b[1;33m=\u001b[0m\u001b[0mpi\u001b[0m\u001b[1;33m*\u001b[0m\u001b[1;33m(\u001b[0m\u001b[0mr\u001b[0m\u001b[1;33m**\u001b[0m\u001b[1;36m2\u001b[0m\u001b[1;33m)\u001b[0m\u001b[1;33m*\u001b[0m\u001b[0mh\u001b[0m\u001b[1;33m\u001b[0m\u001b[1;33m\u001b[0m\u001b[0m\n\u001b[0;32m      5\u001b[0m     d={\"Total surface area\" : TSA,\n",
      "\u001b[1;31mNameError\u001b[0m: name 'pi' is not defined"
     ]
    }
   ],
   "source": [
    "cylinder(10,11)"
   ]
  },
  {
   "cell_type": "code",
   "execution_count": 328,
   "id": "6d1cf1b7",
   "metadata": {},
   "outputs": [
    {
     "data": {
      "text/plain": [
       "{'Total surface area': 75.42857142857143,\n",
       " 'Surface area': 50.285714285714285,\n",
       " 'Volume': 50.285714285714285}"
      ]
     },
     "execution_count": 328,
     "metadata": {},
     "output_type": "execute_result"
    }
   ],
   "source": [
    "pi=22/7\n",
    "cylinder(2,4)"
   ]
  },
  {
   "cell_type": "code",
   "execution_count": 329,
   "id": "20b8fff3",
   "metadata": {},
   "outputs": [
    {
     "data": {
      "text/plain": [
       "{'Total surface area': 2074.285714285714,\n",
       " 'Surface area': 1445.7142857142856,\n",
       " 'Volume': 7228.571428571428}"
      ]
     },
     "execution_count": 329,
     "metadata": {},
     "output_type": "execute_result"
    }
   ],
   "source": [
    "cylinder(r=10,h=23)"
   ]
  },
  {
   "cell_type": "markdown",
   "id": "ada5dd9a",
   "metadata": {},
   "source": [
    "### Annonymous Functions\n",
    "* They dont have actually any name. Can be stored in any variable\n",
    "* Multiple inputs are there but single output\n",
    "* One Liner"
   ]
  },
  {
   "cell_type": "markdown",
   "id": "8f45bf2e",
   "metadata": {},
   "source": [
    "# Lambda\n",
    "### x=lambda a:actions on a "
   ]
  },
  {
   "cell_type": "code",
   "execution_count": 332,
   "id": "48cbc9d5",
   "metadata": {},
   "outputs": [],
   "source": [
    "# Q1: Create a program to calculate square of a number\n",
    "def mysqr(a):\n",
    "    z=(a)**2\n",
    "    return z"
   ]
  },
  {
   "cell_type": "code",
   "execution_count": 333,
   "id": "354df8e9",
   "metadata": {},
   "outputs": [
    {
     "data": {
      "text/plain": [
       "4"
      ]
     },
     "execution_count": 333,
     "metadata": {},
     "output_type": "execute_result"
    }
   ],
   "source": [
    "mysqr(2)"
   ]
  },
  {
   "cell_type": "code",
   "execution_count": 338,
   "id": "53bede88",
   "metadata": {},
   "outputs": [],
   "source": [
    "abc=lambda a :(a)**2"
   ]
  },
  {
   "cell_type": "code",
   "execution_count": 339,
   "id": "c8e2dfdc",
   "metadata": {},
   "outputs": [
    {
     "data": {
      "text/plain": [
       "4"
      ]
     },
     "execution_count": 339,
     "metadata": {},
     "output_type": "execute_result"
    }
   ],
   "source": [
    "abc(2)"
   ]
  },
  {
   "cell_type": "code",
   "execution_count": 347,
   "id": "d7369c96",
   "metadata": {},
   "outputs": [],
   "source": [
    "#2 Nth root\n",
    "## z=(x)**(1/n)\n",
    "abd=lambda x,n :(x)**(1/n)"
   ]
  },
  {
   "cell_type": "code",
   "execution_count": 348,
   "id": "cdd68b29",
   "metadata": {},
   "outputs": [
    {
     "data": {
      "text/plain": [
       "2.154434690031884"
      ]
     },
     "execution_count": 348,
     "metadata": {},
     "output_type": "execute_result"
    }
   ],
   "source": [
    "abd(10,3)"
   ]
  },
  {
   "cell_type": "code",
   "execution_count": 353,
   "id": "4e13dac4",
   "metadata": {},
   "outputs": [],
   "source": [
    "#3 Minimum number of two\n",
    "xyz=lambda  a,b: print(a ,\"is less than\", b) if a>b else y"
   ]
  },
  {
   "cell_type": "code",
   "execution_count": 354,
   "id": "9fe667f6",
   "metadata": {},
   "outputs": [
    {
     "data": {
      "text/plain": [
       "0"
      ]
     },
     "execution_count": 354,
     "metadata": {},
     "output_type": "execute_result"
    }
   ],
   "source": [
    "xyz(2,4)"
   ]
  },
  {
   "cell_type": "code",
   "execution_count": 365,
   "id": "cbb5d975",
   "metadata": {},
   "outputs": [],
   "source": [
    "a=[2,4,10,3,5,11,35]\n",
    "# make square of all the numbers and save them into a list\n",
    "\n",
    "# numls=[2,4,19,2,14,10,31,5,3,44]\n",
    "# for i in numls:\n",
    "#     print(i,\" Square root is\" ,i**2)\n"
   ]
  },
  {
   "cell_type": "code",
   "execution_count": 379,
   "id": "f499d3a8",
   "metadata": {},
   "outputs": [
    {
     "data": {
      "text/plain": [
       "[4, 16, 100, 9, 25, 121, 1225]"
      ]
     },
     "execution_count": 379,
     "metadata": {},
     "output_type": "execute_result"
    }
   ],
   "source": [
    "list(map(lambda i: i**2,a))                 ##### Map use for multiple loop apply"
   ]
  },
  {
   "cell_type": "code",
   "execution_count": 380,
   "id": "3d724d97",
   "metadata": {},
   "outputs": [
    {
     "data": {
      "text/plain": [
       "['2', '4', '10', '3', '5', '11', '35']"
      ]
     },
     "execution_count": 380,
     "metadata": {},
     "output_type": "execute_result"
    }
   ],
   "source": [
    "list(map(lambda i:str(i),a))"
   ]
  },
  {
   "cell_type": "markdown",
   "id": "35e90465",
   "metadata": {},
   "source": [
    "## Filter"
   ]
  },
  {
   "cell_type": "code",
   "execution_count": 403,
   "id": "d2cada3f",
   "metadata": {},
   "outputs": [],
   "source": [
    "# Q-Filter out the numbers which are greater than 10 and save them into list\n",
    "a=[2,4,10,3,5,11,35]"
   ]
  },
  {
   "cell_type": "code",
   "execution_count": 404,
   "id": "4e7b98c0",
   "metadata": {},
   "outputs": [],
   "source": [
    "b=[]\n",
    "for k in a :\n",
    "    if k>10:\n",
    "        b.append(k)"
   ]
  },
  {
   "cell_type": "code",
   "execution_count": 405,
   "id": "a7f1f0f4",
   "metadata": {},
   "outputs": [
    {
     "data": {
      "text/plain": [
       "[11, 35]"
      ]
     },
     "execution_count": 405,
     "metadata": {},
     "output_type": "execute_result"
    }
   ],
   "source": [
    "b"
   ]
  },
  {
   "cell_type": "code",
   "execution_count": 406,
   "id": "b62db4fa",
   "metadata": {},
   "outputs": [
    {
     "data": {
      "text/plain": [
       "[11, 35]"
      ]
     },
     "execution_count": 406,
     "metadata": {},
     "output_type": "execute_result"
    }
   ],
   "source": [
    "list(filter(lambda x:x>10,a))"
   ]
  },
  {
   "cell_type": "code",
   "execution_count": 407,
   "id": "9bdf001d",
   "metadata": {},
   "outputs": [],
   "source": [
    "# Python Program to Print Hello world!\n",
    "# Python Program to Add Two Numbers\n",
    "# Python Program to Find the Square Root\n",
    "# Python Program to Calculate the Area of a Triangle\n",
    "# Python Program to Solve Quadratic Equation\n",
    "# Python Program to Swap Two Variables\n",
    "# Python Program to Generate a Random Number\n",
    "# Python Program to Convert Kilometers to Miles\n",
    "# Python Program to Convert Celsius To Fahrenheit\n",
    "# Python Program to Check if a Number is Positive, Negative or 0\n",
    "# Python Program to Check if a Number is Odd or Even\n",
    "# Python Program to Check Leap Year\n",
    "# Python Program to Find the Largest Among Three Numbers\n",
    "# Python Program to Check Prime Number\n",
    "# Python Program to Print all Prime Numbers in an Interval\n",
    "# Python Program to Find the Factorial of a Number\n",
    "# Python Program to Display the multiplication Table\n",
    "# Python Program to Print the Fibonacci sequence\n",
    "# Python Program to Check Armstrong Number\n",
    "# Python Program to Find Armstrong Number in an Interval\n",
    "# Python Program to Find the Sum of Natural Numbers\n",
    "# Python Program to Display Powers of 2 Using Anonymous Function\n",
    "# Python Program to Find Numbers Divisible by Another Number\n",
    "# Python Program to Convert Decimal to Binary, Octal and Hexadecimal\n",
    "# Python Program to Find ASCII Value of Character\n",
    "# Python Program to Find HCF or GCD\n",
    "# Python Program to Find LCM\n",
    "# Python Program to Find the Factors of a Number\n",
    "# Python Program to Make a Simple Calculator\n",
    "# Python Program to Shuffle Deck of Cards\n",
    "# Python Program to Display Calendar\n",
    "# Python Program to Display Fibonacci Sequence Using Recursion\n",
    "# Python Program to Find Sum of Natural Numbers Using Recursion\n",
    "# Python Program to Find Factorial of Number Using Recursion\n",
    "# Python Program to Convert Decimal to Binary Using Recursion\n",
    "# Python Program to Add Two Matrices\n",
    "# Python Program to Transpose a Matrix\n",
    "# Python Program to Multiply Two Matrices\n",
    "# Python Program to Check Whether a String is Palindrome or Not\n",
    "# Python Program to Remove Punctuations From a String\n",
    "# Python Program to Sort Words in Alphabetic Order\n",
    "# Python Program to Illustrate Different Set Operations\n",
    "# Python Program to Count the Number of Each Vowel\n",
    "# Python Program to Merge Mails\n",
    "# Python Program to Find the Size (Resolution) of a Image\n",
    "# Python Program to Find Hash of File\n",
    "# Python Program to Create Pyramid Patterns\n",
    "# Python Program to Merge Two Dictionaries\n",
    "# Python Program to Safely Create a Nested Directory\n",
    "# Python Program to Access Index of a List Using for Loop\n",
    "# Python Program to Flatten a Nested List\n",
    "# Python Program to Slice Lists\n",
    "# Python Program to Iterate Over Dictionaries Using for Loop\n",
    "# Python Program to Sort a Dictionary by Value\n",
    "# Python Program to Check If a List is Empty\n",
    "# Python Program to Catch Multiple Exceptions in One Line\n",
    "# Python Program to Copy a File\n",
    "# Python Program to Concatenate Two Lists\n",
    "# Python Program to Check if a Key is Already Present in a Dictionary\n",
    "# Python Program to Split a List Into Evenly Sized Chunks\n",
    "# Python Program to Parse a String to a Float or Int\n",
    "# Python Program to Print Colored Text to the Terminal\n",
    "# Python Program to Convert String to Datetime\n",
    "# Python Program to Get the Last Element of the List\n",
    "# Python Program to Get a Substring of a String\n",
    "# Python Program to Print Output Without a Newline\n",
    "# Python Program Read a File Line by Line Into a List\n",
    "# Python Program to Randomly Select an Element From the List\n",
    "# Python Program to Check If a String Is a Number (Float)\n",
    "# Python Program to Count the Occurrence of an Item in a List\n",
    "# Python Program to Append to a File\n",
    "# Python Program to Delete an Element From a Dictionary\n",
    "# Python Program to Create a Long Multiline String\n",
    "# Python Program to Extract Extension From the File Name\n",
    "# Python Program to Measure the Elapsed Time in Python\n",
    "# Python Program to Get the Class Name of an Instance\n",
    "# Python Program to Convert Two Lists Into a Dictionary\n",
    "# Python Program to Differentiate Between type() and isinstance()\n",
    "# Python Program to Trim Whitespace From a String\n",
    "# Python Program to Get the File Name From the File Path\n",
    "# Python Program to Represent enum\n",
    "# Python Program to Return Multiple Values From a Function\n",
    "# Python Program to Get Line Count of a File\n",
    "# Python Program to Find All File with .txt Extension Present Inside a Directory\n",
    "# Python Program to Get File Creation and Modification Date\n",
    "# Python Program to Get the Full Path of the Current Working Directory\n",
    "# Python Program to Iterate Through Two Lists in Parallel\n",
    "# Python Program to Check the File Size\n",
    "# Python Program to Reverse a Number\n",
    "# Python Program to Compute the Power of a Number\n",
    "# Python Program to Count the Number of Digits Present In a Number\n",
    "# Python Program to Check If Two Strings are Anagram\n",
    "# Python Program to Capitalize the First Character of a String\n",
    "# Python Program to Compute all the Permutation of the String\n",
    "# Python Program to Create a Countdown Timer\n",
    "# Python Program to Count the Number of Occurrence of a Character in String\n",
    "# Python Program to Remove Duplicate Element From a List\n",
    "# Python Program to Convert Bytes to a String"
   ]
  },
  {
   "cell_type": "markdown",
   "id": "96710b77",
   "metadata": {},
   "source": [
    " ### Continue,Break and Pass"
   ]
  },
  {
   "cell_type": "code",
   "execution_count": 412,
   "id": "be20f6f6",
   "metadata": {},
   "outputs": [
    {
     "name": "stdout",
     "output_type": "stream",
     "text": [
      "Henry\n",
      "Harry\n",
      "Joy\n"
     ]
    }
   ],
   "source": [
    "d=['Henry','Harry','Joy','Jessica','Jinnie','janet']\n",
    "for i in d:\n",
    "    if i.endswith('a'):\n",
    "        break\n",
    "    else:\n",
    "        print(i)"
   ]
  },
  {
   "cell_type": "code",
   "execution_count": 413,
   "id": "7b38bec1",
   "metadata": {},
   "outputs": [
    {
     "name": "stdout",
     "output_type": "stream",
     "text": [
      "Henry\n",
      "Harry\n",
      "Joy\n",
      "Jinnie\n",
      "janet\n"
     ]
    }
   ],
   "source": [
    "d=['Henry','Harry','Joy','Jessica','Jinnie','janet']\n",
    "for i in d:\n",
    "    if i.endswith('a'):\n",
    "        continue\n",
    "    else:\n",
    "        print(i)"
   ]
  },
  {
   "cell_type": "code",
   "execution_count": 414,
   "id": "c8048b18",
   "metadata": {},
   "outputs": [
    {
     "name": "stdout",
     "output_type": "stream",
     "text": [
      "Henry\n",
      "Harry\n",
      "Joy\n",
      "Jinnie\n",
      "janet\n"
     ]
    }
   ],
   "source": [
    "d=['Henry','Harry','Joy','Jessica','Jinnie','janet']\n",
    "for i in d:\n",
    "    if i.endswith('a'):\n",
    "        pass\n",
    "    else:\n",
    "        print(i)"
   ]
  },
  {
   "cell_type": "code",
   "execution_count": null,
   "id": "fada7bac",
   "metadata": {},
   "outputs": [],
   "source": []
  },
  {
   "cell_type": "code",
   "execution_count": null,
   "id": "99621da7",
   "metadata": {},
   "outputs": [],
   "source": []
  },
  {
   "cell_type": "code",
   "execution_count": null,
   "id": "6f96ac30",
   "metadata": {},
   "outputs": [],
   "source": []
  },
  {
   "cell_type": "code",
   "execution_count": null,
   "id": "9081998e",
   "metadata": {},
   "outputs": [],
   "source": []
  },
  {
   "cell_type": "code",
   "execution_count": null,
   "id": "6fc69488",
   "metadata": {},
   "outputs": [],
   "source": []
  },
  {
   "cell_type": "code",
   "execution_count": null,
   "id": "50f0b172",
   "metadata": {},
   "outputs": [],
   "source": []
  },
  {
   "cell_type": "code",
   "execution_count": null,
   "id": "107a1cd3",
   "metadata": {},
   "outputs": [],
   "source": []
  },
  {
   "cell_type": "code",
   "execution_count": null,
   "id": "a473bbbc",
   "metadata": {},
   "outputs": [],
   "source": []
  },
  {
   "cell_type": "code",
   "execution_count": null,
   "id": "494772fc",
   "metadata": {},
   "outputs": [],
   "source": []
  },
  {
   "cell_type": "code",
   "execution_count": null,
   "id": "2977bb40",
   "metadata": {},
   "outputs": [],
   "source": []
  },
  {
   "cell_type": "code",
   "execution_count": null,
   "id": "1a7ea208",
   "metadata": {},
   "outputs": [],
   "source": []
  },
  {
   "cell_type": "code",
   "execution_count": null,
   "id": "218a499d",
   "metadata": {},
   "outputs": [],
   "source": []
  },
  {
   "cell_type": "code",
   "execution_count": null,
   "id": "5082835e",
   "metadata": {},
   "outputs": [],
   "source": []
  },
  {
   "cell_type": "code",
   "execution_count": null,
   "id": "52548d87",
   "metadata": {},
   "outputs": [],
   "source": []
  },
  {
   "cell_type": "code",
   "execution_count": null,
   "id": "e714f96f",
   "metadata": {},
   "outputs": [],
   "source": []
  },
  {
   "cell_type": "code",
   "execution_count": null,
   "id": "831c579a",
   "metadata": {},
   "outputs": [],
   "source": []
  }
 ],
 "metadata": {
  "kernelspec": {
   "display_name": "Python 3 (ipykernel)",
   "language": "python",
   "name": "python3"
  },
  "language_info": {
   "codemirror_mode": {
    "name": "ipython",
    "version": 3
   },
   "file_extension": ".py",
   "mimetype": "text/x-python",
   "name": "python",
   "nbconvert_exporter": "python",
   "pygments_lexer": "ipython3",
   "version": "3.9.13"
  }
 },
 "nbformat": 4,
 "nbformat_minor": 5
}
